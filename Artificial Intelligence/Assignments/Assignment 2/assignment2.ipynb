{
 "cells": [
  {
   "cell_type": "code",
   "execution_count": 1,
   "metadata": {
    "pycharm": {
     "is_executing": false,
     "name": "#%%\n"
    }
   },
   "outputs": [
    {
     "name": "stdout",
     "output_type": "stream",
     "text": [
      "pygame 1.9.6\n",
      "Hello from the pygame community. https://www.pygame.org/contribute.html\n"
     ]
    }
   ],
   "source": [
    "from tictactoe import TicTacToe\n",
    "from openfield_tictactoe import OpenFieldTicTacToe\n",
    "from game_runner import GameRunner, Algorithm"
   ]
  },
  {
   "cell_type": "markdown",
   "metadata": {},
   "source": [
    "### Game Selection\n",
    "Choose any game of the following:\n",
    "1. Tic Tac Toe\n",
    "2. Open Field Tic Tac Toe\n",
    "\n",
    "#### 1. Tic Tac Toe\n",
    "Initialize game using the Constructor\n",
    "```python\n",
    "g = TicTacToe()\n",
    "```\n",
    "#### 2. Open Field Tic Tac Toe\n",
    "Initialize game using the Constructor\n",
    "custom parameters:  \n",
    "board_size: the size of the board: N * N  \n",
    "win_length: minimum no of characters in a line to win  \n",
    "\n",
    "```python\n",
    "g = OpenFieldTicTacToe(board_size=4, win_length=3)\n",
    "```"
   ]
  },
  {
   "cell_type": "code",
   "execution_count": 2,
   "metadata": {
    "pycharm": {
     "is_executing": false,
     "name": "#%%\n"
    }
   },
   "outputs": [],
   "source": [
    "# For standard Tic Tac Toe\n",
    "g = TicTacToe()\n",
    "\n",
    "# For Open Field Tic Tac Toe\n",
    "# g = OpenFieldTicTacToe(board_size=4, win_length=3)"
   ]
  },
  {
   "cell_type": "markdown",
   "metadata": {},
   "source": [
    "### Choose AI Agent\n",
    "Create a new GamePlayer using the constructor  \n",
    "params:  \n",
    "*game* : the Game object  \n",
    "*algo* : the Algorithm to use\n",
    "*user_plays_first* : whether user will play the first move (`True` by default)\n",
    "```\n",
    "Available Algorithm:\n",
    "* Algorithm.MinMax\n",
    "* Algorithm.MinMaxWithAlphaBetaPruning\n",
    "* Algorithm.MinMaxWithDepthLimited\n",
    "* Algorithm.MinMaxWithDepthLimitedAlphaBetaPruning\n",
    "* Algorithm.MinMax\n",
    "```\n",
    "The default algorithm used it *Algorithm.MinMax*  \n",
    "> **Note**: Pass an optional *max_depth* argument if using Depth Limited Search  \n",
    "\n",
    "Example:\n",
    "```python\n",
    "a = GameRunner(game=g, algo=Algorithm.MinMaxWithDepthLimited, max_depth=6)\n",
    "```"
   ]
  },
  {
   "cell_type": "code",
   "execution_count": 3,
   "metadata": {
    "pycharm": {
     "is_executing": false,
     "name": "#%%\n"
    }
   },
   "outputs": [],
   "source": [
    "game_runner = GameRunner(game=g, algo=Algorithm.MinMax, user_plays_first=True)"
   ]
  },
  {
   "cell_type": "markdown",
   "metadata": {},
   "source": [
    "### Start the Game\n",
    "run *start()* method of the `GameRunner` object"
   ]
  },
  {
   "cell_type": "code",
   "execution_count": 4,
   "metadata": {
    "pycharm": {
     "is_executing": false,
     "name": "#%%\n"
    }
   },
   "outputs": [
    {
     "name": "stdout",
     "output_type": "stream",
     "text": [
      "No possible Moves\n"
     ]
    }
   ],
   "source": [
    "game_runner.start()\n",
    "\n",
    "# reset the game\n",
    "game_runner.game.reset()"
   ]
  },
  {
   "cell_type": "code",
   "execution_count": null,
   "metadata": {},
   "outputs": [],
   "source": []
  }
 ],
 "metadata": {
  "kernelspec": {
   "display_name": "Python 3",
   "language": "python",
   "name": "python3"
  },
  "language_info": {
   "codemirror_mode": {
    "name": "ipython",
    "version": 3
   },
   "file_extension": ".py",
   "mimetype": "text/x-python",
   "name": "python",
   "nbconvert_exporter": "python",
   "pygments_lexer": "ipython3",
   "version": "3.7.7"
  },
  "pycharm": {
   "stem_cell": {
    "cell_type": "raw",
    "metadata": {
     "collapsed": false
    },
    "source": []
   }
  }
 },
 "nbformat": 4,
 "nbformat_minor": 4
}
